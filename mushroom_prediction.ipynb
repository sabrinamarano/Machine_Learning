{
 "cells": [
  {
   "cell_type": "code",
   "execution_count": 1,
   "id": "82f50e1b-3956-4e18-a3f1-a39163ef65ba",
   "metadata": {},
   "outputs": [],
   "source": [
    "import pandas as pd\n",
    "import numpy as np\n"
   ]
  },
  {
   "cell_type": "code",
   "execution_count": 2,
   "id": "9573fec9-fe5f-45af-8151-39a9f28ef7c1",
   "metadata": {},
   "outputs": [],
   "source": [
    "train_m = pd.read_csv('train.csv')\n",
    "test_m = pd.read_csv('test.csv')"
   ]
  },
  {
   "cell_type": "code",
   "execution_count": 3,
   "id": "bb1ca272-7c3d-43cc-b637-a0a33830982b",
   "metadata": {},
   "outputs": [],
   "source": [
    "train_m= train_m[['Id','cap.shape','cap.color','stalk.color.above.ring','stalk.color.below.ring','bruises','population','poisonous']]\n",
    "\n",
    "#cap-shape: bell=b,conical=c,convex=x,flat=f, knobbed=k,sunken=s\n",
    "#cap-color: brown=n,buff=b,cinnamon=c,gray=g,green=r, pink=p,purple=u,red=e,white=w,yellow=y\n",
    "#stalk-color-above-ring: brown=n,buff=b,cinnamon=c,gray=g,orange=o, pink=p,red=e,white=w,yellow=y\n",
    "#stalk-color-below-ring: brown=n,buff=b,cinnamon=c,gray=g,orange=o, pink=p,red=e,white=w,yellow=y\n",
    "#bruises-boolean\n",
    "#population: abundant=a,clustered=c,numerous=n, scattered=s,several=v,solitary=y"
   ]
  },
  {
   "cell_type": "code",
   "execution_count": 4,
   "id": "058acda2-a9cc-4e45-a3c2-f5ea971072a3",
   "metadata": {},
   "outputs": [
    {
     "data": {
      "text/plain": [
       "Id                        0\n",
       "cap.shape                 0\n",
       "cap.color                 0\n",
       "stalk.color.above.ring    0\n",
       "stalk.color.below.ring    0\n",
       "bruises                   0\n",
       "population                0\n",
       "poisonous                 0\n",
       "dtype: int64"
      ]
     },
     "execution_count": 4,
     "metadata": {},
     "output_type": "execute_result"
    }
   ],
   "source": [
    "train_m.isna().sum()"
   ]
  },
  {
   "cell_type": "code",
   "execution_count": 10,
   "id": "9f057e0c-96bf-4b99-a581-63b3e1270b1a",
   "metadata": {},
   "outputs": [],
   "source": [
    "from sklearn.tree import DecisionTreeClassifier\n",
    "import matplotlib.pyplot as plt\n",
    "from sklearn.tree import plot_tree\n",
    "from sklearn.metrics import plot_confusion_matrix\n",
    "from sklearn.preprocessing import MinMaxScaler\n",
    "from sklearn.pipeline import Pipeline\n",
    "from sklearn.compose import ColumnTransformer\n",
    "from sklearn.model_selection import GridSearchCV\n",
    "from sklearn.neighbors import KNeighborsClassifier\n",
    "from sklearn.linear_model import LogisticRegression\n",
    "from sklearn.svm import SVC\n",
    "from sklearn.ensemble import RandomForestClassifier\n",
    "from sklearn.model_selection import train_test_split\n",
    "from sklearn.preprocessing import MinMaxScaler\n",
    "from sklearn.impute import SimpleImputer\n",
    "from sklearn.pipeline import Pipeline\n",
    "from sklearn.preprocessing import OneHotEncoder\n",
    "from sklearn.compose import ColumnTransformer\n",
    "from sklearn.metrics import accuracy_score"
   ]
  },
  {
   "cell_type": "markdown",
   "id": "5a0db5ba-1138-4c9e-8cf4-fa9ae7cc5e1d",
   "metadata": {},
   "source": [
    "<h1>Decision tree</h1>"
   ]
  },
  {
   "cell_type": "code",
   "execution_count": 11,
   "id": "2c292ebe-d25f-4978-8584-a21706c9a100",
   "metadata": {},
   "outputs": [],
   "source": [
    "X = train_m.drop(columns=['poisonous'])\n",
    "y = train_m['poisonous']\n",
    "\n",
    "X_train, X_test, y_train, y_test = train_test_split(X, y, test_size=0.15, random_state=8)\n",
    "\n",
    "X_train = pd.DataFrame(X_train, columns=X.columns)\n",
    "X_test = pd.DataFrame(X_test, columns=X.columns)"
   ]
  },
  {
   "cell_type": "code",
   "execution_count": 12,
   "id": "8a2aac09-7ba7-4491-957b-6ffaa1ff01f7",
   "metadata": {},
   "outputs": [
    {
     "name": "stdout",
     "output_type": "stream",
     "text": [
      "<class 'pandas.core.frame.DataFrame'>\n",
      "Int64Index: 5524 entries, 1805 to 4547\n",
      "Data columns (total 7 columns):\n",
      " #   Column                  Non-Null Count  Dtype \n",
      "---  ------                  --------------  ----- \n",
      " 0   Id                      5524 non-null   int64 \n",
      " 1   cap.shape               5524 non-null   object\n",
      " 2   cap.color               5524 non-null   object\n",
      " 3   stalk.color.above.ring  5524 non-null   object\n",
      " 4   stalk.color.below.ring  5524 non-null   object\n",
      " 5   bruises                 5524 non-null   bool  \n",
      " 6   population              5524 non-null   object\n",
      "dtypes: bool(1), int64(1), object(5)\n",
      "memory usage: 307.5+ KB\n"
     ]
    }
   ],
   "source": [
    "X_train.info()"
   ]
  },
  {
   "cell_type": "code",
   "execution_count": 13,
   "id": "d7237842-dca5-4973-82c2-caef749238eb",
   "metadata": {},
   "outputs": [],
   "source": [
    "cat_col=list(X_train.select_dtypes(include=['object']))"
   ]
  },
  {
   "cell_type": "code",
   "execution_count": 14,
   "id": "54c53346-2c18-4535-859a-3abbef441474",
   "metadata": {},
   "outputs": [
    {
     "data": {
      "text/plain": [
       "Pipeline(steps=[('preprocess',\n",
       "                 ColumnTransformer(transformers=[('category',\n",
       "                                                  Pipeline(steps=[('impute',\n",
       "                                                                   SimpleImputer(strategy='most_frequent')),\n",
       "                                                                  ('ordinal',\n",
       "                                                                   OneHotEncoder(handle_unknown='ignore'))]),\n",
       "                                                  ['cap.shape', 'cap.color',\n",
       "                                                   'stalk.color.above.ring',\n",
       "                                                   'stalk.color.below.ring',\n",
       "                                                   'population'])])),\n",
       "                ('model', DecisionTreeClassifier())])"
      ]
     },
     "execution_count": 14,
     "metadata": {},
     "output_type": "execute_result"
    }
   ],
   "source": [
    "\n",
    "\n",
    "categorical_pipeline = Pipeline(steps=[\n",
    "    ('impute', SimpleImputer(strategy='most_frequent')),\n",
    "    ('ordinal',OneHotEncoder(handle_unknown='ignore'))\n",
    "])\n",
    "full_processor = ColumnTransformer(transformers=[\n",
    "    ('category', categorical_pipeline, cat_col)\n",
    "])\n",
    "\n",
    "tree_pipeline = Pipeline(steps=[\n",
    "    ('preprocess', full_processor), \n",
    "    ('model', DecisionTreeClassifier())])\n",
    "\n",
    "pd.DataFrame(full_processor.fit_transform(X_train))\n",
    "tree_pipeline.fit(X_train, y_train)"
   ]
  },
  {
   "cell_type": "code",
   "execution_count": 15,
   "id": "e069e3bb-b248-4fa8-ad1f-f732289bc743",
   "metadata": {},
   "outputs": [
    {
     "data": {
      "text/plain": [
       "0.9060463432295438"
      ]
     },
     "execution_count": 15,
     "metadata": {},
     "output_type": "execute_result"
    }
   ],
   "source": [
    "accuracy_score(tree_pipeline.predict(X_train), y_train)"
   ]
  },
  {
   "cell_type": "code",
   "execution_count": 16,
   "id": "054d68f6-bd1a-4102-a3b0-14e1eb9205ac",
   "metadata": {},
   "outputs": [
    {
     "data": {
      "text/plain": [
       "<sklearn.metrics._plot.confusion_matrix.ConfusionMatrixDisplay at 0x7fab587bfe80>"
      ]
     },
     "execution_count": 16,
     "metadata": {},
     "output_type": "execute_result"
    },
    {
     "data": {
      "image/png": "[encoded data removed]",
      "text/plain": [
       "<Figure size 432x288 with 2 Axes>"
      ]
     },
     "metadata": {
      "needs_background": "light"
     },
     "output_type": "display_data"
    }
   ],
   "source": [
    "plot_confusion_matrix(tree_pipeline, X_test, y_test, display_labels=['poison', 'no poison'])"
   ]
  },
  {
   "cell_type": "code",
   "execution_count": 17,
   "id": "5c1b1270-ec1e-4679-bcdc-bc12aad6803b",
   "metadata": {},
   "outputs": [],
   "source": [
    "from sklearn.metrics import confusion_matrix"
   ]
  },
  {
   "cell_type": "code",
   "execution_count": 18,
   "id": "d0bbc354-1ae1-4ded-ae3c-2b730af4f0ac",
   "metadata": {},
   "outputs": [
    {
     "name": "stdout",
     "output_type": "stream",
     "text": [
      "Accuracy:  0.9138461538461539\n"
     ]
    },
    {
     "data": {
      "image/png": "[encoded data removed]",
      "text/plain": [
       "<Figure size 432x288 with 2 Axes>"
      ]
     },
     "metadata": {
      "needs_background": "light"
     },
     "output_type": "display_data"
    }
   ],
   "source": [
    "def model_check(y_true, y_preds, model):     \n",
    "    print('Accuracy: ', accuracy_score(y_true, y_preds))\n",
    "    classes = model.named_steps['model'].classes_    \n",
    "    tn, fp, fn, tp = confusion_matrix(y_true, y_preds).ravel()\n",
    "    plot_confusion_matrix(tree_pipeline, X_test, y_test, display_labels=['poison', 'no poison']);\n",
    "    return tn, fp, fn, tp\n",
    "tn, fp, fn, tp = model_check(y_test, tree_pipeline.predict(X_test), tree_pipeline)"
   ]
  },
  {
   "cell_type": "code",
   "execution_count": 19,
   "id": "912c96a6-7d6f-452b-9ae8-ad877b790fa5",
   "metadata": {},
   "outputs": [
    {
     "name": "stdout",
     "output_type": "stream",
     "text": [
      "\n",
      "    Accuracy: 0.9138461538461539\n",
      "    Recall/Sensitivity: 0.8851224105461394\n",
      "    Precision (True Positive Rate): 0.9533468559837728\n",
      "    Specifity (False Positive Rate): 0.8734439834024896\n",
      "    F Score: 0.9179687499999999\n",
      "    Kappa: 0.8275186696824575\n",
      "\n"
     ]
    }
   ],
   "source": [
    "from sklearn.metrics import precision_score, recall_score, cohen_kappa_score, f1_score\n",
    "print(f\"\"\"\n",
    "    Accuracy: {accuracy_score(tree_pipeline.predict(X_test), y_test)}\n",
    "    Recall/Sensitivity: {recall_score(tree_pipeline.predict(X_test), y_test)}\n",
    "    Precision (True Positive Rate): {precision_score(tree_pipeline.predict(X_test), y_test)}\n",
    "    Specifity (False Positive Rate): {tn / (tn+fp)}\n",
    "    F Score: {f1_score(tree_pipeline.predict(X_test), y_test)}\n",
    "    Kappa: {cohen_kappa_score(tree_pipeline.predict(X_test), y_test)}\n",
    "\"\"\")"
   ]
  },
  {
   "cell_type": "code",
   "execution_count": 20,
   "id": "af3178cf-83ee-464a-bed4-3fff5205c701",
   "metadata": {},
   "outputs": [],
   "source": [
    "from sklearn.metrics import roc_curve\n",
    "from sklearn.metrics import roc_auc_score\n",
    "from sklearn.metrics import precision_recall_curve\n",
    "from sklearn.metrics import auc"
   ]
  },
  {
   "cell_type": "code",
   "execution_count": 21,
   "id": "2436cd36-bd0e-475c-964c-21f6f3b174a1",
   "metadata": {},
   "outputs": [],
   "source": [
    "y_score= tree_pipeline.predict_proba(X_test)[:,1]\n",
    "false_positive_rate, true_positive_rate, threshold = roc_curve(y_test, y_score)"
   ]
  },
  {
   "cell_type": "code",
   "execution_count": 22,
   "id": "30d5024d-1519-40ef-afca-ec153a446648",
   "metadata": {
    "tags": []
   },
   "outputs": [
    {
     "data": {
      "text/plain": [
       "array([2.        , 1.        , 0.91304348, 0.90909091, 0.85714286,\n",
       "       0.85      , 0.84482759, 0.84210526, 0.83050847, 0.83018868,\n",
       "       0.828125  , 0.82758621, 0.8255814 , 0.81355932, 0.80357143,\n",
       "       0.79661017, 0.78688525, 0.77777778, 0.77419355, 0.76056338,\n",
       "       0.74509804, 0.73239437, 0.65454545, 0.58227848, 0.57692308,\n",
       "       0.54545455, 0.54166667, 0.52      , 0.45714286, 0.41040462,\n",
       "       0.38461538, 0.3220339 , 0.3       , 0.29411765, 0.2       ,\n",
       "       0.        ])"
      ]
     },
     "execution_count": 22,
     "metadata": {},
     "output_type": "execute_result"
    }
   ],
   "source": [
    " threshold"
   ]
  },
  {
   "cell_type": "code",
   "execution_count": 346,
   "id": "fa448b76-5ced-4487-9de3-6ec565455955",
   "metadata": {},
   "outputs": [
    {
     "data": {
      "text/plain": [
       "0.9650669539528502"
      ]
     },
     "execution_count": 346,
     "metadata": {},
     "output_type": "execute_result"
    }
   ],
   "source": [
    "dt=  roc_auc_score(y_test, y_score)\n",
    "dt"
   ]
  },
  {
   "cell_type": "code",
   "execution_count": 23,
   "id": "b6e53f41-fda3-4e23-bdd6-7b488bc4c516",
   "metadata": {},
   "outputs": [
    {
     "name": "stdout",
     "output_type": "stream",
     "text": [
      "roc_auc_score for DecisionTree:  0.9650669539528502\n"
     ]
    }
   ],
   "source": [
    "print('roc_auc_score for DecisionTree: ', roc_auc_score(y_test, y_score))"
   ]
  },
  {
   "cell_type": "code",
   "execution_count": 24,
   "id": "52d80d18-bf13-4114-832e-4ead7ba05717",
   "metadata": {},
   "outputs": [
    {
     "data": {
      "image/png": "[encoded data removed]",
      "text/plain": [
       "<Figure size 720x720 with 1 Axes>"
      ]
     },
     "metadata": {
      "needs_background": "light"
     },
     "output_type": "display_data"
    }
   ],
   "source": [
    "plt.subplots(1, figsize=(10,10))\n",
    "plt.title('ROC - DecisionTree')\n",
    "plt.plot(false_positive_rate, true_positive_rate)\n",
    "plt.plot([0, 1], ls=\"--\")\n",
    "plt.plot([0, 0], [1, 0] , c=\".7\"), plt.plot([1, 1] , c=\".7\")\n",
    "plt.ylabel('True Positive Rate')\n",
    "plt.xlabel('False Positive Rate')\n",
    "plt.show()"
   ]
  },
  {
   "cell_type": "markdown",
   "id": "b03996d7-e765-4e2a-9d3d-50ccf1adfc82",
   "metadata": {},
   "source": [
    "<h1>Decrease False Negative</h1>"
   ]
  },
  {
   "cell_type": "code",
   "execution_count": 25,
   "id": "a3d043b1-97eb-4810-a504-b55e41ad3420",
   "metadata": {},
   "outputs": [],
   "source": [
    "train_m = pd.read_csv('train.csv')\n",
    "train_m= train_m[['Id','cap.shape','cap.color','stalk.color.above.ring','stalk.color.below.ring','bruises','population','poisonous']]\n",
    "\n",
    "X = train_m.drop(columns=['poisonous'])\n",
    "y = train_m['poisonous']\n",
    "\n",
    "X_train, X_test, y_train, y_test = train_test_split(X, y, test_size=0.15, random_state=8)\n",
    "\n",
    "X_train = pd.DataFrame(X_train, columns=X.columns)\n",
    "X_test = pd.DataFrame(X_test, columns=X.columns)"
   ]
  },
  {
   "cell_type": "code",
   "execution_count": 26,
   "id": "a1a10f8a-38af-4ac6-b61a-7ec119d45955",
   "metadata": {},
   "outputs": [],
   "source": [
    "cat_col=list(X_train.select_dtypes(include=['object']))"
   ]
  },
  {
   "cell_type": "code",
   "execution_count": 27,
   "id": "04205830-27cb-4fa1-9046-e353449b5ddf",
   "metadata": {},
   "outputs": [],
   "source": [
    "categorical_pipeline = Pipeline(steps=[\n",
    "    ('impute', SimpleImputer(strategy='most_frequent')),\n",
    "    ('ordinal',OneHotEncoder(handle_unknown='ignore'))\n",
    "])\n",
    "full_processor = ColumnTransformer(transformers=[\n",
    "    ('category', categorical_pipeline, cat_col)\n",
    "])\n",
    "\n",
    "tree_pipeline = Pipeline(steps=[\n",
    "    ('preprocess', full_processor), \n",
    "    ('model', DecisionTreeClassifier())])\n",
    "\n",
    "pd.DataFrame(full_processor.fit_transform(X_train))\n",
    "tree_pipeline.fit(X_train, y_train)\n",
    "THRESHOLD= 0.45714286\n",
    "preds = np.where(tree_pipeline.predict_proba(X_test)[:,1] >= THRESHOLD, 1, 0)"
   ]
  },
  {
   "cell_type": "code",
   "execution_count": 28,
   "id": "ff571328-92b8-435a-8645-3d13b3cc404b",
   "metadata": {
    "collapsed": true,
    "jupyter": {
     "outputs_hidden": true
    },
    "tags": []
   },
   "outputs": [
    {
     "data": {
      "text/plain": [
       "array([0, 0, 1, 1, 1, 0, 1, 1, 1, 0, 1, 1, 1, 0, 1, 1, 1, 1, 1, 1, 0, 1,\n",
       "       1, 1, 1, 1, 1, 0, 0, 0, 0, 0, 1, 0, 1, 1, 0, 0, 0, 1, 0, 1, 1, 1,\n",
       "       1, 0, 0, 1, 0, 1, 1, 0, 1, 0, 0, 1, 0, 1, 1, 1, 1, 0, 1, 0, 1, 1,\n",
       "       1, 0, 1, 0, 1, 1, 0, 1, 1, 0, 0, 0, 1, 1, 0, 1, 0, 1, 0, 0, 0, 1,\n",
       "       1, 0, 1, 0, 1, 0, 0, 0, 0, 1, 0, 0, 1, 0, 1, 1, 1, 0, 1, 0, 0, 1,\n",
       "       1, 0, 0, 0, 0, 1, 0, 0, 0, 1, 0, 0, 0, 1, 0, 1, 1, 1, 0, 1, 1, 0,\n",
       "       1, 0, 0, 0, 1, 1, 1, 0, 1, 0, 1, 0, 1, 1, 1, 1, 1, 0, 1, 0, 1, 1,\n",
       "       1, 0, 1, 0, 1, 0, 0, 0, 1, 1, 1, 1, 1, 1, 1, 0, 0, 1, 0, 1, 0, 1,\n",
       "       1, 1, 0, 1, 0, 0, 1, 1, 1, 1, 0, 1, 1, 1, 1, 0, 1, 1, 1, 1, 1, 1,\n",
       "       1, 1, 0, 1, 1, 1, 0, 0, 0, 0, 0, 0, 0, 0, 0, 1, 1, 1, 1, 0, 0, 0,\n",
       "       0, 1, 1, 0, 1, 1, 0, 1, 0, 1, 1, 0, 1, 1, 1, 0, 0, 1, 1, 1, 0, 1,\n",
       "       0, 1, 0, 1, 1, 0, 0, 0, 1, 1, 1, 0, 1, 0, 1, 1, 1, 1, 1, 1, 0, 1,\n",
       "       1, 1, 0, 0, 0, 1, 0, 0, 0, 1, 1, 0, 0, 1, 1, 0, 0, 1, 1, 0, 1, 0,\n",
       "       1, 1, 1, 1, 0, 0, 0, 1, 1, 0, 0, 0, 1, 0, 1, 1, 1, 0, 1, 1, 1, 1,\n",
       "       0, 1, 0, 1, 1, 0, 0, 1, 0, 0, 1, 1, 1, 1, 0, 0, 1, 1, 0, 0, 1, 0,\n",
       "       0, 0, 0, 0, 0, 1, 0, 0, 0, 1, 1, 1, 1, 1, 0, 0, 0, 1, 1, 1, 0, 1,\n",
       "       1, 1, 0, 0, 0, 1, 1, 1, 1, 1, 0, 1, 0, 1, 1, 1, 1, 0, 1, 1, 1, 1,\n",
       "       1, 1, 1, 0, 1, 0, 1, 1, 1, 0, 1, 1, 1, 1, 0, 0, 0, 0, 0, 1, 1, 1,\n",
       "       1, 1, 1, 0, 1, 0, 1, 0, 1, 1, 1, 0, 1, 0, 1, 1, 1, 0, 0, 1, 0, 1,\n",
       "       0, 1, 1, 0, 0, 1, 0, 0, 0, 1, 0, 1, 1, 0, 1, 1, 1, 0, 0, 0, 1, 1,\n",
       "       1, 0, 1, 0, 0, 0, 1, 1, 1, 1, 0, 1, 0, 1, 0, 1, 1, 1, 0, 1, 0, 1,\n",
       "       0, 1, 0, 0, 1, 1, 1, 1, 0, 1, 0, 0, 0, 1, 1, 1, 0, 0, 0, 1, 1, 1,\n",
       "       1, 1, 1, 1, 0, 1, 1, 1, 0, 0, 1, 1, 1, 1, 0, 1, 1, 1, 1, 1, 1, 0,\n",
       "       1, 0, 0, 1, 1, 0, 0, 1, 0, 1, 1, 0, 1, 0, 1, 0, 1, 1, 0, 1, 0, 0,\n",
       "       0, 0, 0, 1, 1, 0, 1, 0, 0, 0, 0, 1, 0, 0, 0, 1, 1, 0, 1, 0, 0, 1,\n",
       "       1, 1, 1, 1, 0, 1, 0, 1, 0, 1, 0, 1, 0, 0, 0, 1, 1, 1, 0, 1, 0, 0,\n",
       "       0, 0, 0, 0, 0, 0, 0, 1, 0, 1, 1, 0, 1, 0, 1, 1, 0, 1, 0, 0, 1, 0,\n",
       "       0, 1, 1, 1, 0, 1, 1, 0, 0, 1, 0, 0, 1, 1, 1, 0, 1, 1, 0, 0, 0, 0,\n",
       "       0, 1, 1, 0, 0, 1, 1, 0, 1, 0, 1, 0, 0, 1, 0, 1, 1, 1, 1, 0, 1, 1,\n",
       "       1, 0, 0, 0, 1, 1, 0, 0, 0, 0, 0, 1, 0, 1, 0, 0, 0, 0, 0, 0, 1, 0,\n",
       "       1, 0, 1, 0, 0, 0, 1, 0, 1, 0, 0, 1, 0, 0, 1, 1, 0, 1, 1, 0, 0, 0,\n",
       "       1, 1, 1, 1, 1, 1, 0, 0, 0, 1, 0, 0, 0, 0, 0, 0, 1, 1, 0, 0, 0, 1,\n",
       "       1, 1, 1, 0, 0, 1, 0, 1, 1, 1, 1, 1, 1, 1, 1, 1, 0, 0, 1, 0, 0, 0,\n",
       "       0, 0, 1, 0, 1, 0, 0, 1, 1, 0, 0, 1, 1, 0, 1, 1, 1, 0, 0, 0, 0, 1,\n",
       "       0, 1, 0, 1, 1, 0, 0, 1, 0, 1, 1, 0, 1, 0, 0, 1, 1, 1, 0, 1, 0, 0,\n",
       "       0, 1, 1, 1, 1, 0, 1, 1, 1, 0, 0, 1, 0, 1, 0, 1, 0, 0, 0, 1, 1, 0,\n",
       "       0, 0, 0, 1, 1, 1, 1, 0, 0, 1, 1, 0, 0, 0, 0, 0, 1, 1, 0, 0, 1, 1,\n",
       "       1, 0, 0, 0, 1, 1, 0, 1, 0, 1, 0, 0, 1, 1, 1, 1, 1, 0, 1, 1, 1, 0,\n",
       "       0, 1, 1, 0, 1, 0, 1, 1, 1, 1, 1, 1, 0, 1, 1, 1, 1, 0, 0, 0, 1, 1,\n",
       "       1, 1, 1, 1, 1, 0, 0, 0, 1, 1, 1, 1, 1, 0, 1, 1, 1, 0, 0, 0, 1, 1,\n",
       "       1, 1, 1, 0, 1, 1, 0, 0, 1, 0, 1, 1, 1, 1, 1, 1, 1, 1, 0, 1, 0, 0,\n",
       "       0, 1, 1, 1, 0, 0, 1, 0, 0, 0, 1, 1, 0, 0, 0, 1, 0, 1, 0, 0, 1, 1,\n",
       "       0, 0, 1, 1, 0, 0, 1, 0, 0, 0, 0, 1, 1, 1, 0, 0, 0, 1, 1, 0, 1, 1,\n",
       "       1, 0, 1, 0, 1, 0, 0, 1, 0, 0, 1, 1, 0, 0, 1, 0, 0, 1, 0, 1, 0, 1,\n",
       "       1, 1, 0, 0, 0, 1, 1])"
      ]
     },
     "execution_count": 28,
     "metadata": {},
     "output_type": "execute_result"
    }
   ],
   "source": [
    "preds"
   ]
  },
  {
   "cell_type": "code",
   "execution_count": 29,
   "id": "b881ba1d-06fa-4f66-b4b9-8f67d010bcd3",
   "metadata": {},
   "outputs": [
    {
     "data": {
      "text/plain": [
       "<sklearn.metrics._plot.confusion_matrix.ConfusionMatrixDisplay at 0x7fab487aa130>"
      ]
     },
     "execution_count": 29,
     "metadata": {},
     "output_type": "execute_result"
    },
    {
     "data": {
      "image/png": "[encoded data removed]",
      "text/plain": [
       "<Figure size 432x288 with 2 Axes>"
      ]
     },
     "metadata": {
      "needs_background": "light"
     },
     "output_type": "display_data"
    }
   ],
   "source": [
    "plot_confusion_matrix(tree_pipeline, X_test, preds, display_labels=['poison', 'no poison'])"
   ]
  },
  {
   "cell_type": "markdown",
   "id": "5ce1b347-7633-444f-a942-9a19351832f2",
   "metadata": {},
   "source": [
    "<h1>Logistic regression</h1>"
   ]
  },
  {
   "cell_type": "code",
   "execution_count": 30,
   "id": "4fe7ee5f-49bd-43b2-91fc-46dff0987880",
   "metadata": {},
   "outputs": [
    {
     "data": {
      "text/html": [
       "<div>\n",
       "<style scoped>\n",
       "    .dataframe tbody tr th:only-of-type {\n",
       "        vertical-align: middle;\n",
       "    }\n",
       "\n",
       "    .dataframe tbody tr th {\n",
       "        vertical-align: top;\n",
       "    }\n",
       "\n",
       "    .dataframe thead th {\n",
       "        text-align: right;\n",
       "    }\n",
       "</style>\n",
       "<table border=\"1\" class=\"dataframe\">\n",
       "  <thead>\n",
       "    <tr style=\"text-align: right;\">\n",
       "      <th></th>\n",
       "      <th>Id</th>\n",
       "      <th>cap.shape</th>\n",
       "      <th>cap.color</th>\n",
       "      <th>stalk.color.above.ring</th>\n",
       "      <th>stalk.color.below.ring</th>\n",
       "      <th>bruises</th>\n",
       "      <th>population</th>\n",
       "      <th>poisonous</th>\n",
       "    </tr>\n",
       "  </thead>\n",
       "  <tbody>\n",
       "    <tr>\n",
       "      <th>0</th>\n",
       "      <td>6573</td>\n",
       "      <td>k</td>\n",
       "      <td>e</td>\n",
       "      <td>w</td>\n",
       "      <td>w</td>\n",
       "      <td>False</td>\n",
       "      <td>v</td>\n",
       "      <td>1</td>\n",
       "    </tr>\n",
       "    <tr>\n",
       "      <th>1</th>\n",
       "      <td>4426</td>\n",
       "      <td>f</td>\n",
       "      <td>e</td>\n",
       "      <td>p</td>\n",
       "      <td>w</td>\n",
       "      <td>True</td>\n",
       "      <td>y</td>\n",
       "      <td>0</td>\n",
       "    </tr>\n",
       "    <tr>\n",
       "      <th>2</th>\n",
       "      <td>7018</td>\n",
       "      <td>b</td>\n",
       "      <td>w</td>\n",
       "      <td>w</td>\n",
       "      <td>w</td>\n",
       "      <td>False</td>\n",
       "      <td>s</td>\n",
       "      <td>0</td>\n",
       "    </tr>\n",
       "    <tr>\n",
       "      <th>3</th>\n",
       "      <td>5789</td>\n",
       "      <td>k</td>\n",
       "      <td>g</td>\n",
       "      <td>w</td>\n",
       "      <td>w</td>\n",
       "      <td>False</td>\n",
       "      <td>n</td>\n",
       "      <td>0</td>\n",
       "    </tr>\n",
       "    <tr>\n",
       "      <th>4</th>\n",
       "      <td>6187</td>\n",
       "      <td>f</td>\n",
       "      <td>n</td>\n",
       "      <td>p</td>\n",
       "      <td>g</td>\n",
       "      <td>True</td>\n",
       "      <td>v</td>\n",
       "      <td>0</td>\n",
       "    </tr>\n",
       "    <tr>\n",
       "      <th>...</th>\n",
       "      <td>...</td>\n",
       "      <td>...</td>\n",
       "      <td>...</td>\n",
       "      <td>...</td>\n",
       "      <td>...</td>\n",
       "      <td>...</td>\n",
       "      <td>...</td>\n",
       "      <td>...</td>\n",
       "    </tr>\n",
       "    <tr>\n",
       "      <th>6494</th>\n",
       "      <td>7002</td>\n",
       "      <td>f</td>\n",
       "      <td>g</td>\n",
       "      <td>b</td>\n",
       "      <td>b</td>\n",
       "      <td>False</td>\n",
       "      <td>v</td>\n",
       "      <td>1</td>\n",
       "    </tr>\n",
       "    <tr>\n",
       "      <th>6495</th>\n",
       "      <td>7323</td>\n",
       "      <td>k</td>\n",
       "      <td>e</td>\n",
       "      <td>p</td>\n",
       "      <td>p</td>\n",
       "      <td>False</td>\n",
       "      <td>v</td>\n",
       "      <td>1</td>\n",
       "    </tr>\n",
       "    <tr>\n",
       "      <th>6496</th>\n",
       "      <td>6206</td>\n",
       "      <td>f</td>\n",
       "      <td>g</td>\n",
       "      <td>n</td>\n",
       "      <td>b</td>\n",
       "      <td>False</td>\n",
       "      <td>y</td>\n",
       "      <td>1</td>\n",
       "    </tr>\n",
       "    <tr>\n",
       "      <th>6497</th>\n",
       "      <td>4658</td>\n",
       "      <td>f</td>\n",
       "      <td>n</td>\n",
       "      <td>w</td>\n",
       "      <td>w</td>\n",
       "      <td>True</td>\n",
       "      <td>s</td>\n",
       "      <td>0</td>\n",
       "    </tr>\n",
       "    <tr>\n",
       "      <th>6498</th>\n",
       "      <td>373</td>\n",
       "      <td>f</td>\n",
       "      <td>e</td>\n",
       "      <td>p</td>\n",
       "      <td>p</td>\n",
       "      <td>False</td>\n",
       "      <td>v</td>\n",
       "      <td>1</td>\n",
       "    </tr>\n",
       "  </tbody>\n",
       "</table>\n",
       "<p>6499 rows × 8 columns</p>\n",
       "</div>"
      ],
      "text/plain": [
       "        Id cap.shape cap.color stalk.color.above.ring stalk.color.below.ring  \\\n",
       "0     6573         k         e                      w                      w   \n",
       "1     4426         f         e                      p                      w   \n",
       "2     7018         b         w                      w                      w   \n",
       "3     5789         k         g                      w                      w   \n",
       "4     6187         f         n                      p                      g   \n",
       "...    ...       ...       ...                    ...                    ...   \n",
       "6494  7002         f         g                      b                      b   \n",
       "6495  7323         k         e                      p                      p   \n",
       "6496  6206         f         g                      n                      b   \n",
       "6497  4658         f         n                      w                      w   \n",
       "6498   373         f         e                      p                      p   \n",
       "\n",
       "      bruises population  poisonous  \n",
       "0       False          v          1  \n",
       "1        True          y          0  \n",
       "2       False          s          0  \n",
       "3       False          n          0  \n",
       "4        True          v          0  \n",
       "...       ...        ...        ...  \n",
       "6494    False          v          1  \n",
       "6495    False          v          1  \n",
       "6496    False          y          1  \n",
       "6497     True          s          0  \n",
       "6498    False          v          1  \n",
       "\n",
       "[6499 rows x 8 columns]"
      ]
     },
     "execution_count": 30,
     "metadata": {},
     "output_type": "execute_result"
    }
   ],
   "source": [
    "train_m = pd.read_csv('train.csv')\n",
    "train_m= train_m[['Id','cap.shape','cap.color','stalk.color.above.ring','stalk.color.below.ring','bruises','population','poisonous']]\n",
    "train_m"
   ]
  },
  {
   "cell_type": "code",
   "execution_count": 31,
   "id": "de0c00ba-1740-4105-bf55-da396d1e537c",
   "metadata": {},
   "outputs": [],
   "source": [
    "X = train_m.drop(columns=['poisonous'])\n",
    "y = train_m['poisonous']\n",
    "\n",
    "X_train, X_test, y_train, y_test = train_test_split(X, y, test_size=0.15, random_state=8)\n",
    "\n",
    "X_train = pd.DataFrame(X_train, columns=X.columns)\n",
    "X_test = pd.DataFrame(X_test, columns=X.columns)"
   ]
  },
  {
   "cell_type": "code",
   "execution_count": 32,
   "id": "4a5c14da-b9a0-41ed-aa2b-abb717b2f145",
   "metadata": {},
   "outputs": [],
   "source": [
    "logreg = LogisticRegression()"
   ]
  },
  {
   "cell_type": "code",
   "execution_count": 33,
   "id": "910e0e47-506e-4eaf-9de9-a2efe9388b6a",
   "metadata": {},
   "outputs": [],
   "source": [
    "\n",
    "cat_col=list(X_train.select_dtypes(include=['object']))"
   ]
  },
  {
   "cell_type": "code",
   "execution_count": 34,
   "id": "7113dfe8-862f-4d3c-a9f3-7ba03e47010d",
   "metadata": {},
   "outputs": [
    {
     "name": "stderr",
     "output_type": "stream",
     "text": [
      "/Users/sabrinamarano/opt/anaconda3/lib/python3.8/site-packages/sklearn/linear_model/_logistic.py:763: ConvergenceWarning: lbfgs failed to converge (status=1):\n",
      "STOP: TOTAL NO. of ITERATIONS REACHED LIMIT.\n",
      "\n",
      "Increase the number of iterations (max_iter) or scale the data as shown in:\n",
      "    https://scikit-learn.org/stable/modules/preprocessing.html\n",
      "Please also refer to the documentation for alternative solver options:\n",
      "    https://scikit-learn.org/stable/modules/linear_model.html#logistic-regression\n",
      "  n_iter_i = _check_optimize_result(\n"
     ]
    },
    {
     "data": {
      "text/plain": [
       "Pipeline(steps=[('preprocess',\n",
       "                 ColumnTransformer(transformers=[('category',\n",
       "                                                  Pipeline(steps=[('impute',\n",
       "                                                                   SimpleImputer(strategy='most_frequent')),\n",
       "                                                                  ('ordinal',\n",
       "                                                                   OneHotEncoder(handle_unknown='ignore'))]),\n",
       "                                                  ['cap.shape', 'cap.color',\n",
       "                                                   'stalk.color.above.ring',\n",
       "                                                   'stalk.color.below.ring',\n",
       "                                                   'population'])])),\n",
       "                ('model', LogisticRegression())])"
      ]
     },
     "execution_count": 34,
     "metadata": {},
     "output_type": "execute_result"
    }
   ],
   "source": [
    "\n",
    "categorical_pipeline = Pipeline(steps=[\n",
    "    ('impute', SimpleImputer(strategy='most_frequent')),\n",
    "    ('ordinal',OneHotEncoder(handle_unknown='ignore'))\n",
    "])\n",
    "full_processor = ColumnTransformer(transformers=[\n",
    "    ('category', categorical_pipeline, cat_col)\n",
    "])\n",
    "\n",
    "logreg_pipeline = Pipeline(steps=[\n",
    "    ('preprocess', full_processor), \n",
    "    ('model',  LogisticRegression())])\n",
    "\n",
    "pd.DataFrame(full_processor.fit_transform(X_train))\n",
    "logreg_pipeline.fit(X_train, y_train)"
   ]
  },
  {
   "cell_type": "code",
   "execution_count": 35,
   "id": "09f2842e-1446-4ba6-8480-e41fbe559b98",
   "metadata": {},
   "outputs": [
    {
     "data": {
      "text/plain": [
       "0.8718320057929037"
      ]
     },
     "execution_count": 35,
     "metadata": {},
     "output_type": "execute_result"
    }
   ],
   "source": [
    "accuracy_score(logreg_pipeline.predict(X_train), y_train)"
   ]
  },
  {
   "cell_type": "code",
   "execution_count": 36,
   "id": "27f2d68f-74a2-4f2f-a10e-3b7b0ebef7c1",
   "metadata": {},
   "outputs": [
    {
     "data": {
      "image/png": "[encoded data removed]",
      "text/plain": [
       "<Figure size 432x288 with 2 Axes>"
      ]
     },
     "metadata": {
      "needs_background": "light"
     },
     "output_type": "display_data"
    }
   ],
   "source": [
    "plot_confusion_matrix(logreg_pipeline, X_test, y_test, display_labels=['poison', 'no poison']);"
   ]
  },
  {
   "cell_type": "code",
   "execution_count": 37,
   "id": "b5a1d67d-cd5c-48bc-9709-5f583e29039e",
   "metadata": {},
   "outputs": [
    {
     "name": "stdout",
     "output_type": "stream",
     "text": [
      "\n",
      "    Accuracy: 0.8871794871794871\n",
      "    Recall/Sensitivity: 0.8647619047619047\n",
      "    Precision (True Positive Rate): 0.920892494929006\n",
      "    Specifity (False Positive Rate): 0.8734439834024896\n",
      "    F Score: 0.8919449901768173\n",
      "    Kappa: 0.7741629816803538\n",
      "\n"
     ]
    }
   ],
   "source": [
    "print(f\"\"\"\n",
    "    Accuracy: {accuracy_score(logreg_pipeline.predict(X_test), y_test)}\n",
    "    Recall/Sensitivity: {recall_score(logreg_pipeline.predict(X_test), y_test)}\n",
    "    Precision (True Positive Rate): {precision_score(logreg_pipeline.predict(X_test), y_test)}\n",
    "    Specifity (False Positive Rate): {tn / (tn+fp)}\n",
    "    F Score: {f1_score(logreg_pipeline.predict(X_test), y_test)}\n",
    "    Kappa: {cohen_kappa_score(logreg_pipeline.predict(X_test), y_test)}\n",
    "\"\"\")"
   ]
  },
  {
   "cell_type": "code",
   "execution_count": 38,
   "id": "4dc60ce4-61bc-4b70-9c84-055523ed30e4",
   "metadata": {},
   "outputs": [],
   "source": [
    "y_score1= logreg_pipeline.predict_proba(X_test)[:,1]\n",
    "false_positive_rate1, true_positive_rate1, threshold1 = roc_curve(y_test, y_score1)"
   ]
  },
  {
   "cell_type": "code",
   "execution_count": 44,
   "id": "e67acec2-2e83-4fcd-a6a3-d7a958070da4",
   "metadata": {
    "tags": []
   },
   "outputs": [
    {
     "data": {
      "text/plain": [
       "array([1.99990078, 0.99990078, 0.99989909, 0.999877  , 0.99987491,\n",
       "       0.99964662, 0.99964062, 0.99956196, 0.99872698, 0.99870537,\n",
       "       0.99860119, 0.99857744, 0.99842232, 0.99839554, 0.99826647,\n",
       "       0.99823705, 0.99596466, 0.99589634, 0.9954797 , 0.9954032 ,\n",
       "       0.99503461, 0.99491769, 0.99440225, 0.99430762, 0.99385173,\n",
       "       0.98999011, 0.98604047, 0.98597916, 0.98275208, 0.98232463,\n",
       "       0.98202953, 0.97890675, 0.97856194, 0.97818029, 0.97781756,\n",
       "       0.9725151 , 0.96651127, 0.95943252, 0.95220486, 0.95143175,\n",
       "       0.94973065, 0.94828951, 0.94589893, 0.94502971, 0.93976098,\n",
       "       0.93939005, 0.93842306, 0.93534952, 0.93378952, 0.93273957,\n",
       "       0.93271722, 0.92638464, 0.92522667, 0.91815573, 0.90471883,\n",
       "       0.89588919, 0.89430625, 0.88042027, 0.88021175, 0.87376695,\n",
       "       0.87189576, 0.86966327, 0.86774046, 0.86240236, 0.86038963,\n",
       "       0.85312719, 0.84831058, 0.8461285 , 0.84036018, 0.83808555,\n",
       "       0.83486666, 0.83252935, 0.8183139 , 0.81603082, 0.80321875,\n",
       "       0.8024101 , 0.80054052, 0.77552532, 0.7725769 , 0.76576301,\n",
       "       0.75254089, 0.74606108, 0.74285398, 0.72817871, 0.72482906,\n",
       "       0.7143701 , 0.70432995, 0.67881412, 0.67512755, 0.66994484,\n",
       "       0.66620653, 0.65567283, 0.63686896, 0.6210368 , 0.61706117,\n",
       "       0.60216552, 0.57647038, 0.57234916, 0.55804756, 0.55391091,\n",
       "       0.54974163, 0.53253223, 0.52334078, 0.51913383, 0.44592262,\n",
       "       0.40927951, 0.40520999, 0.35366377, 0.33808165, 0.33173694,\n",
       "       0.32792323, 0.32421867, 0.29303247, 0.29068267, 0.28721902,\n",
       "       0.28242539, 0.27902142, 0.27874263, 0.27536602, 0.2663338 ,\n",
       "       0.26305268, 0.23806723, 0.22650132, 0.22356139, 0.21195128,\n",
       "       0.20914914, 0.17256172, 0.17016788, 0.16371452, 0.15798832,\n",
       "       0.14128549, 0.12447282, 0.11355056, 0.11314313, 0.11186468,\n",
       "       0.11146253, 0.10701253, 0.10541218, 0.10479957, 0.08679952,\n",
       "       0.06787746, 0.06077394, 0.05981876, 0.05824864, 0.05796178,\n",
       "       0.05779302, 0.0524523 , 0.04777626, 0.04701513, 0.04115637,\n",
       "       0.0366241 , 0.03603392, 0.0340518 , 0.03384212, 0.03379555,\n",
       "       0.03329246, 0.03275413, 0.03201671, 0.03149834, 0.02558578,\n",
       "       0.02494423, 0.02490815, 0.02453747, 0.01942244, 0.01503359,\n",
       "       0.01478599, 0.01458816, 0.01420631, 0.01282868, 0.01261693,\n",
       "       0.00719661, 0.00710119, 0.00707715, 0.00696144, 0.00652315,\n",
       "       0.00537158, 0.00526853, 0.0052161 , 0.0050121 , 0.00492872,\n",
       "       0.00443388, 0.00436355, 0.00429092, 0.00389076, 0.00333039,\n",
       "       0.00267388, 0.00252548, 0.00214881, 0.00201834, 0.00198467,\n",
       "       0.00161783, 0.0015727 , 0.00154645, 0.0015396 , 0.00136633,\n",
       "       0.00118681, 0.00112702, 0.00090931, 0.00049757, 0.00042315,\n",
       "       0.00041607, 0.00032814, 0.00032265, 0.00024865, 0.00008411,\n",
       "       0.00003295, 0.0000324 , 0.00002555, 0.00002513, 0.00001936,\n",
       "       0.00001904])"
      ]
     },
     "execution_count": 44,
     "metadata": {},
     "output_type": "execute_result"
    }
   ],
   "source": [
    "threshold1"
   ]
  },
  {
   "cell_type": "code",
   "execution_count": 43,
   "id": "8709c66b-92a0-48f3-94a0-2faadc033563",
   "metadata": {},
   "outputs": [],
   "source": [
    "np.set_printoptions(suppress=True)"
   ]
  },
  {
   "cell_type": "code",
   "execution_count": 40,
   "id": "3a44aa7f-b2a8-45e0-ba20-2cad317c8d67",
   "metadata": {},
   "outputs": [
    {
     "data": {
      "text/plain": [
       "0.9448082280558524"
      ]
     },
     "execution_count": 40,
     "metadata": {},
     "output_type": "execute_result"
    }
   ],
   "source": [
    "lr=roc_auc_score(y_test, y_score1)\n",
    "lr"
   ]
  },
  {
   "cell_type": "code",
   "execution_count": 41,
   "id": "29f8d43b-0b82-4ca1-b9d6-3bffb2e6ddfb",
   "metadata": {},
   "outputs": [
    {
     "name": "stdout",
     "output_type": "stream",
     "text": [
      "roc_auc_score for LogisticRegression:  0.9448082280558524\n"
     ]
    }
   ],
   "source": [
    "print('roc_auc_score for LogisticRegression: ', roc_auc_score(y_test, y_score1))"
   ]
  },
  {
   "cell_type": "code",
   "execution_count": 42,
   "id": "51b8fdaa-94e0-4074-9675-a1b14e28e2d8",
   "metadata": {},
   "outputs": [
    {
     "data": {
      "image/png": "[encoded data removed]",
      "text/plain": [
       "<Figure size 720x720 with 1 Axes>"
      ]
     },
     "metadata": {
      "needs_background": "light"
     },
     "output_type": "display_data"
    }
   ],
   "source": [
    "plt.subplots(1, figsize=(10,10))\n",
    "plt.title('ROC - Logistic Regression')\n",
    "plt.plot(false_positive_rate1, true_positive_rate1)\n",
    "plt.plot([0, 1], ls=\"--\")\n",
    "plt.plot([0, 0], [1, 0] , c=\".7\"), plt.plot([1, 1] , c=\".7\")\n",
    "plt.ylabel('True Positive Rate')\n",
    "plt.xlabel('False Positive Rate')\n",
    "plt.show()"
   ]
  },
  {
   "cell_type": "markdown",
   "id": "a4d7af21-c488-4c7d-90cf-98b4af8c3397",
   "metadata": {},
   "source": [
    "<h1>Decrease False Negative Logistic Regression</h1>"
   ]
  },
  {
   "cell_type": "code",
   "execution_count": 45,
   "id": "b9e8e36b-585f-4d17-80f6-d49147f69b3e",
   "metadata": {},
   "outputs": [],
   "source": [
    "train_m = pd.read_csv('train.csv')\n",
    "train_m= train_m[['Id','cap.shape','cap.color','stalk.color.above.ring','stalk.color.below.ring','bruises','population','poisonous']]\n",
    "\n",
    "X = train_m.drop(columns=['poisonous'])\n",
    "y = train_m['poisonous']\n",
    "\n",
    "X_train, X_test, y_train, y_test = train_test_split(X, y, test_size=0.15, random_state=8)\n",
    "\n",
    "X_train = pd.DataFrame(X_train, columns=X.columns)\n",
    "X_test = pd.DataFrame(X_test, columns=X.columns)"
   ]
  },
  {
   "cell_type": "code",
   "execution_count": 46,
   "id": "38195ba5-1a1d-431e-9bcd-892b8962229b",
   "metadata": {},
   "outputs": [],
   "source": [
    "logreg = LogisticRegression()"
   ]
  },
  {
   "cell_type": "code",
   "execution_count": 47,
   "id": "fca29377-ec2c-42ef-9164-e0e874aa8495",
   "metadata": {},
   "outputs": [],
   "source": [
    "cat_col=list(X_train.select_dtypes(include=['object']))"
   ]
  },
  {
   "cell_type": "code",
   "execution_count": 48,
   "id": "3738288d-22ae-45a3-b397-f2814a405c71",
   "metadata": {},
   "outputs": [
    {
     "name": "stderr",
     "output_type": "stream",
     "text": [
      "/Users/sabrinamarano/opt/anaconda3/lib/python3.8/site-packages/sklearn/linear_model/_logistic.py:763: ConvergenceWarning: lbfgs failed to converge (status=1):\n",
      "STOP: TOTAL NO. of ITERATIONS REACHED LIMIT.\n",
      "\n",
      "Increase the number of iterations (max_iter) or scale the data as shown in:\n",
      "    https://scikit-learn.org/stable/modules/preprocessing.html\n",
      "Please also refer to the documentation for alternative solver options:\n",
      "    https://scikit-learn.org/stable/modules/linear_model.html#logistic-regression\n",
      "  n_iter_i = _check_optimize_result(\n"
     ]
    }
   ],
   "source": [
    "\n",
    "categorical_pipeline = Pipeline(steps=[\n",
    "    ('impute', SimpleImputer(strategy='most_frequent')),\n",
    "    ('ordinal',OneHotEncoder(handle_unknown='ignore'))\n",
    "])\n",
    "full_processor = ColumnTransformer(transformers=[\n",
    "    ('category', categorical_pipeline, cat_col)\n",
    "])\n",
    "\n",
    "logreg_pipeline = Pipeline(steps=[\n",
    "    ('preprocess', full_processor), \n",
    "    ('model',  LogisticRegression())])\n",
    "\n",
    "pd.DataFrame(full_processor.fit_transform(X_train))\n",
    "logreg_pipeline.fit(X_train, y_train)\n",
    "THRESHOLD=  0.35366377\n",
    "preds = np.where(logreg_pipeline.predict_proba(X_test)[:,1] >= THRESHOLD, 1, 0)"
   ]
  },
  {
   "cell_type": "code",
   "execution_count": 49,
   "id": "699c7c60-0b88-47cd-aec6-08f27b938490",
   "metadata": {},
   "outputs": [
    {
     "data": {
      "text/plain": [
       "<sklearn.metrics._plot.confusion_matrix.ConfusionMatrixDisplay at 0x7fab4877e2e0>"
      ]
     },
     "execution_count": 49,
     "metadata": {},
     "output_type": "execute_result"
    },
    {
     "data": {
      "image/png": "[encoded data removed]",
      "text/plain": [
       "<Figure size 432x288 with 2 Axes>"
      ]
     },
     "metadata": {
      "needs_background": "light"
     },
     "output_type": "display_data"
    }
   ],
   "source": [
    "plot_confusion_matrix(logreg_pipeline, X_test, preds, display_labels=['poison', 'no poison'])"
   ]
  },
  {
   "cell_type": "markdown",
   "id": "aabb2307-39f7-4917-816a-83651dfe18f4",
   "metadata": {},
   "source": [
    "<h1>Support Vector machine</h1>"
   ]
  },
  {
   "cell_type": "code",
   "execution_count": 52,
   "id": "9bf5c0f4-bae2-4a12-a00f-b7ca1d4519f6",
   "metadata": {},
   "outputs": [],
   "source": [
    "train_m = pd.read_csv('train.csv')\n",
    "train_m= train_m[['Id','cap.shape','cap.color','stalk.color.above.ring','stalk.color.below.ring','bruises','population','poisonous']]\n",
    "X = train_m.drop(columns=['poisonous'])\n",
    "y = train_m['poisonous']\n",
    "\n",
    "X_train, X_test, y_train, y_test = train_test_split(X, y, test_size=0.15, random_state=8)\n",
    "\n",
    "X_train = pd.DataFrame(X_train, columns=X.columns)\n",
    "X_test = pd.DataFrame(X_test, columns=X.columns)"
   ]
  },
  {
   "cell_type": "code",
   "execution_count": 53,
   "id": "08325c42-890b-4c9f-8f8b-0d86243de7e5",
   "metadata": {},
   "outputs": [],
   "source": [
    "svc = SVC(C=1.0, random_state=8, kernel='linear', probability=True)"
   ]
  },
  {
   "cell_type": "code",
   "execution_count": 54,
   "id": "2f7c676d-c519-47be-8522-9724b77520fc",
   "metadata": {},
   "outputs": [],
   "source": [
    "\n",
    "cat_col=list(X_train.select_dtypes(include=['object']))"
   ]
  },
  {
   "cell_type": "code",
   "execution_count": 55,
   "id": "006318ab-b823-46d5-b338-02f053429e98",
   "metadata": {},
   "outputs": [
    {
     "data": {
      "text/html": [
       "<div>\n",
       "<style scoped>\n",
       "    .dataframe tbody tr th:only-of-type {\n",
       "        vertical-align: middle;\n",
       "    }\n",
       "\n",
       "    .dataframe tbody tr th {\n",
       "        vertical-align: top;\n",
       "    }\n",
       "\n",
       "    .dataframe thead th {\n",
       "        text-align: right;\n",
       "    }\n",
       "</style>\n",
       "<table border=\"1\" class=\"dataframe\">\n",
       "  <thead>\n",
       "    <tr style=\"text-align: right;\">\n",
       "      <th></th>\n",
       "      <th>0</th>\n",
       "    </tr>\n",
       "  </thead>\n",
       "  <tbody>\n",
       "    <tr>\n",
       "      <th>0</th>\n",
       "      <td>(0, 1)\\t1.0\\n  (0, 9)\\t1.0\\n  (0, 22)\\t1.0\\n...</td>\n",
       "    </tr>\n",
       "    <tr>\n",
       "      <th>1</th>\n",
       "      <td>(0, 1)\\t1.0\\n  (0, 7)\\t1.0\\n  (0, 21)\\t1.0\\n...</td>\n",
       "    </tr>\n",
       "    <tr>\n",
       "      <th>2</th>\n",
       "      <td>(0, 1)\\t1.0\\n  (0, 9)\\t1.0\\n  (0, 20)\\t1.0\\n...</td>\n",
       "    </tr>\n",
       "    <tr>\n",
       "      <th>3</th>\n",
       "      <td>(0, 4)\\t1.0\\n  (0, 8)\\t1.0\\n  (0, 22)\\t1.0\\n...</td>\n",
       "    </tr>\n",
       "    <tr>\n",
       "      <th>4</th>\n",
       "      <td>(0, 4)\\t1.0\\n  (0, 9)\\t1.0\\n  (0, 22)\\t1.0\\n...</td>\n",
       "    </tr>\n",
       "    <tr>\n",
       "      <th>...</th>\n",
       "      <td>...</td>\n",
       "    </tr>\n",
       "    <tr>\n",
       "      <th>5519</th>\n",
       "      <td>(0, 2)\\t1.0\\n  (0, 9)\\t1.0\\n  (0, 21)\\t1.0\\n...</td>\n",
       "    </tr>\n",
       "    <tr>\n",
       "      <th>5520</th>\n",
       "      <td>(0, 4)\\t1.0\\n  (0, 14)\\t1.0\\n  (0, 19)\\t1.0\\...</td>\n",
       "    </tr>\n",
       "    <tr>\n",
       "      <th>5521</th>\n",
       "      <td>(0, 4)\\t1.0\\n  (0, 8)\\t1.0\\n  (0, 21)\\t1.0\\n...</td>\n",
       "    </tr>\n",
       "    <tr>\n",
       "      <th>5522</th>\n",
       "      <td>(0, 4)\\t1.0\\n  (0, 9)\\t1.0\\n  (0, 22)\\t1.0\\n...</td>\n",
       "    </tr>\n",
       "    <tr>\n",
       "      <th>5523</th>\n",
       "      <td>(0, 1)\\t1.0\\n  (0, 8)\\t1.0\\n  (0, 15)\\t1.0\\n...</td>\n",
       "    </tr>\n",
       "  </tbody>\n",
       "</table>\n",
       "<p>5524 rows × 1 columns</p>\n",
       "</div>"
      ],
      "text/plain": [
       "                                                      0\n",
       "0       (0, 1)\\t1.0\\n  (0, 9)\\t1.0\\n  (0, 22)\\t1.0\\n...\n",
       "1       (0, 1)\\t1.0\\n  (0, 7)\\t1.0\\n  (0, 21)\\t1.0\\n...\n",
       "2       (0, 1)\\t1.0\\n  (0, 9)\\t1.0\\n  (0, 20)\\t1.0\\n...\n",
       "3       (0, 4)\\t1.0\\n  (0, 8)\\t1.0\\n  (0, 22)\\t1.0\\n...\n",
       "4       (0, 4)\\t1.0\\n  (0, 9)\\t1.0\\n  (0, 22)\\t1.0\\n...\n",
       "...                                                 ...\n",
       "5519    (0, 2)\\t1.0\\n  (0, 9)\\t1.0\\n  (0, 21)\\t1.0\\n...\n",
       "5520    (0, 4)\\t1.0\\n  (0, 14)\\t1.0\\n  (0, 19)\\t1.0\\...\n",
       "5521    (0, 4)\\t1.0\\n  (0, 8)\\t1.0\\n  (0, 21)\\t1.0\\n...\n",
       "5522    (0, 4)\\t1.0\\n  (0, 9)\\t1.0\\n  (0, 22)\\t1.0\\n...\n",
       "5523    (0, 1)\\t1.0\\n  (0, 8)\\t1.0\\n  (0, 15)\\t1.0\\n...\n",
       "\n",
       "[5524 rows x 1 columns]"
      ]
     },
     "execution_count": 55,
     "metadata": {},
     "output_type": "execute_result"
    }
   ],
   "source": [
    "\n",
    "\n",
    "categorical_pipeline = Pipeline(steps=[\n",
    "    ('impute', SimpleImputer(strategy='most_frequent')),\n",
    "    ('ordinal',OneHotEncoder(handle_unknown='ignore'))\n",
    "])\n",
    "full_processor = ColumnTransformer(transformers=[\n",
    "  \n",
    "    ('category', categorical_pipeline, cat_col)\n",
    "])\n",
    "\n",
    "svc = Pipeline(steps=[\n",
    "    ('preprocess', full_processor), \n",
    "    ('model',  SVC(C=1.0, random_state=8, kernel='linear', probability=True))])\n",
    "\n",
    "pd.DataFrame(full_processor.fit_transform(X_train))"
   ]
  },
  {
   "cell_type": "code",
   "execution_count": 56,
   "id": "e4addd8f-6f63-48e3-af03-cd3c3189d7fd",
   "metadata": {},
   "outputs": [
    {
     "data": {
      "text/plain": [
       "Pipeline(steps=[('preprocess',\n",
       "                 ColumnTransformer(transformers=[('category',\n",
       "                                                  Pipeline(steps=[('impute',\n",
       "                                                                   SimpleImputer(strategy='most_frequent')),\n",
       "                                                                  ('ordinal',\n",
       "                                                                   OneHotEncoder(handle_unknown='ignore'))]),\n",
       "                                                  ['cap.shape', 'cap.color',\n",
       "                                                   'stalk.color.above.ring',\n",
       "                                                   'stalk.color.below.ring',\n",
       "                                                   'population'])])),\n",
       "                ('model',\n",
       "                 SVC(kernel='linear', probability=True, random_state=8))])"
      ]
     },
     "execution_count": 56,
     "metadata": {},
     "output_type": "execute_result"
    }
   ],
   "source": [
    "svc.fit(X_train, y_train)"
   ]
  },
  {
   "cell_type": "code",
   "execution_count": 57,
   "id": "2732ab80-4ff2-42bb-aad5-0dc7a036279c",
   "metadata": {},
   "outputs": [
    {
     "data": {
      "text/plain": [
       "0.8772628530050688"
      ]
     },
     "execution_count": 57,
     "metadata": {},
     "output_type": "execute_result"
    }
   ],
   "source": [
    "accuracy_score(svc.predict(X_train), y_train)"
   ]
  },
  {
   "cell_type": "code",
   "execution_count": 58,
   "id": "b77fac22-51a1-49ed-8017-e47b99e15560",
   "metadata": {},
   "outputs": [
    {
     "data": {
      "image/png": "[encoded data removed]",
      "text/plain": [
       "<Figure size 432x288 with 2 Axes>"
      ]
     },
     "metadata": {
      "needs_background": "light"
     },
     "output_type": "display_data"
    }
   ],
   "source": [
    "plot_confusion_matrix(svc, X_test, y_test, display_labels=['poison', 'no poison']);"
   ]
  },
  {
   "cell_type": "code",
   "execution_count": 59,
   "id": "6e9e9d25-b728-43a0-8fae-ea6d943370db",
   "metadata": {},
   "outputs": [
    {
     "name": "stdout",
     "output_type": "stream",
     "text": [
      "\n",
      "    Accuracy: 0.8964102564102564\n",
      "    Recall/Sensitivity: 0.8754789272030651\n",
      "    Precision (True Positive Rate): 0.9269776876267748\n",
      "    Specifity (False Positive Rate): 0.8734439834024896\n",
      "    F Score: 0.9004926108374384\n",
      "    Kappa: 0.792654963963338\n",
      "\n"
     ]
    }
   ],
   "source": [
    "print(f\"\"\"\n",
    "    Accuracy: {accuracy_score(svc.predict(X_test), y_test)}\n",
    "    Recall/Sensitivity: {recall_score(svc.predict(X_test), y_test)}\n",
    "    Precision (True Positive Rate): {precision_score(svc.predict(X_test), y_test)}\n",
    "    Specifity (False Positive Rate): {tn / (tn+fp)}\n",
    "    F Score: {f1_score(svc.predict(X_test), y_test)}\n",
    "    Kappa: {cohen_kappa_score(svc.predict(X_test), y_test)}\n",
    "\"\"\")"
   ]
  },
  {
   "cell_type": "code",
   "execution_count": 60,
   "id": "623d7a7a-01fc-4ac3-a559-06ef0a055710",
   "metadata": {},
   "outputs": [],
   "source": [
    "y_score2= svc.predict_proba(X_test)[:,1]\n",
    "false_positive_rate2, true_positive_rate2, threshold2 = roc_curve(y_test, y_score2)"
   ]
  },
  {
   "cell_type": "code",
   "execution_count": 61,
   "id": "62cf788a-7825-4774-ab64-eca157e93db9",
   "metadata": {},
   "outputs": [
    {
     "data": {
      "text/plain": [
       "array([1.99999935, 0.99999935, 0.99999935, 0.99999935, 0.99999935,\n",
       "       0.99999935, 0.99999935, 0.99999935, 0.99999935, 0.99999935,\n",
       "       0.99999935, 0.99999935, 0.99999935, 0.99999935, 0.99999935,\n",
       "       0.99999935, 0.98914274, 0.98914163, 0.98913995, 0.98913931,\n",
       "       0.9891386 , 0.989138  , 0.98913771, 0.98913758, 0.9891375 ,\n",
       "       0.98913703, 0.9891366 , 0.98913647, 0.98913646, 0.98913633,\n",
       "       0.98913608, 0.98913582, 0.98913566, 0.98913535, 0.98913522,\n",
       "       0.98913479, 0.98913455, 0.98913357, 0.98913344, 0.98913342,\n",
       "       0.98913316, 0.9891326 , 0.98913246, 0.98913234, 0.98913189,\n",
       "       0.98913176, 0.98913079, 0.98913066, 0.98913033, 0.98912741,\n",
       "       0.79442003, 0.79441144, 0.7944092 , 0.79440493, 0.7944032 ,\n",
       "       0.79439461, 0.79438986, 0.7943881 , 0.79438775, 0.79438751,\n",
       "       0.79438593, 0.79437941, 0.79437903, 0.79437692, 0.79437669,\n",
       "       0.79437302, 0.79437092, 0.79437068, 0.7943691 , 0.79436586,\n",
       "       0.79436258, 0.7943617 , 0.79435986, 0.79435804, 0.79435757,\n",
       "       0.79435575, 0.79434675, 0.79434652, 0.79434487, 0.79434441,\n",
       "       0.79434259, 0.79434201, 0.79434121, 0.79434074, 0.79433892,\n",
       "       0.79433569, 0.79433486, 0.79433358, 0.79433289, 0.79432968,\n",
       "       0.79432757, 0.79432575, 0.79432517, 0.7943211 , 0.79432001,\n",
       "       0.79431803, 0.79431649, 0.79431606, 0.79431423, 0.79431241,\n",
       "       0.79430737, 0.7943034 , 0.79429965, 0.79429739, 0.79429557,\n",
       "       0.79429053, 0.79425733, 0.6725169 , 0.14081378, 0.14080576,\n",
       "       0.14080132, 0.1407869 , 0.14078656, 0.14078567, 0.14078555,\n",
       "       0.14078469, 0.14078202, 0.14078145, 0.14077855, 0.14077834,\n",
       "       0.14077532, 0.14077445, 0.14077411, 0.14077344, 0.1407731 ,\n",
       "       0.14077133, 0.14076957, 0.140769  , 0.14076897, 0.14076627,\n",
       "       0.14076589, 0.14076287, 0.14076082, 0.14075947, 0.1407568 ,\n",
       "       0.14075652, 0.14075565, 0.14075484, 0.14075332, 0.1407501 ,\n",
       "       0.14074992, 0.14074725, 0.14074702, 0.14074569, 0.14074435,\n",
       "       0.14074239, 0.14074209, 0.14074019, 0.1407385 , 0.14073765,\n",
       "       0.14073583, 0.14073448, 0.1407307 , 0.14073032, 0.14072876,\n",
       "       0.14072605, 0.1407247 , 0.14072338, 0.14072203, 0.14072055,\n",
       "       0.14071787, 0.14071632, 0.14071497, 0.14071153, 0.14070939,\n",
       "       0.14070671, 0.14070645, 0.1407051 , 0.14070457, 0.14069549,\n",
       "       0.14069534, 0.14069427, 0.140694  , 0.14069266, 0.14069212,\n",
       "       0.14069181, 0.14068889, 0.14068645, 0.14068304, 0.14068201,\n",
       "       0.14067304, 0.14067028, 0.14066861, 0.14065783, 0.14065104,\n",
       "       0.14063661, 0.14063217, 0.14058636, 0.00694909, 0.00694852,\n",
       "       0.00694796, 0.0069473 , 0.00694723, 0.00694715, 0.00694707,\n",
       "       0.00694702, 0.00694612, 0.00694565, 0.00694546, 0.00694539,\n",
       "       0.0069453 , 0.00694503, 0.00694494, 0.00694467, 0.0069443 ,\n",
       "       0.00694421, 0.00694408, 0.00694366, 0.0069435 , 0.00694284,\n",
       "       0.00694226, 0.00029498, 0.00029496, 0.00029495, 0.00029479,\n",
       "       0.00029475, 0.00029472, 0.00029469, 0.00029466])"
      ]
     },
     "execution_count": 61,
     "metadata": {},
     "output_type": "execute_result"
    }
   ],
   "source": [
    "threshold2"
   ]
  },
  {
   "cell_type": "code",
   "execution_count": 62,
   "id": "f1f82d96-c952-4a98-83a7-353ec4f30f4c",
   "metadata": {},
   "outputs": [],
   "source": [
    "svm=roc_auc_score(y_test, y_score2)"
   ]
  },
  {
   "cell_type": "code",
   "execution_count": 63,
   "id": "3da809cf-0cbd-4329-97d0-dea23ba9bb68",
   "metadata": {},
   "outputs": [
    {
     "name": "stdout",
     "output_type": "stream",
     "text": [
      "roc_auc_score for Support Vector Machine:  0.9329155900448604\n"
     ]
    }
   ],
   "source": [
    "print('roc_auc_score for Support Vector Machine: ', roc_auc_score(y_test, y_score2))"
   ]
  },
  {
   "cell_type": "code",
   "execution_count": 64,
   "id": "4706b761-35dd-4cf0-bbf1-20fec3c5b558",
   "metadata": {},
   "outputs": [
    {
     "data": {
      "image/png": "[encoded data removed]",
      "text/plain": [
       "<Figure size 720x720 with 1 Axes>"
      ]
     },
     "metadata": {
      "needs_background": "light"
     },
     "output_type": "display_data"
    }
   ],
   "source": [
    "plt.subplots(1, figsize=(10,10))\n",
    "plt.title('ROC - Support Vector Machine')\n",
    "plt.plot(false_positive_rate2, true_positive_rate2)\n",
    "plt.plot([0, 1], ls=\"--\")\n",
    "plt.plot([0, 0], [1, 0] , c=\".7\"), plt.plot([1, 1] , c=\".7\")\n",
    "plt.ylabel('True Positive Rate')\n",
    "plt.xlabel('False Positive Rate')\n",
    "plt.show()"
   ]
  },
  {
   "cell_type": "markdown",
   "id": "ecb527a2-bf73-4a5e-8011-5b58451f8e3f",
   "metadata": {},
   "source": [
    "<h1>Decrease False Negative SVM</h1>"
   ]
  },
  {
   "cell_type": "code",
   "execution_count": 65,
   "id": "0156a1ac-4bbe-4b7b-80ec-bff16173462f",
   "metadata": {},
   "outputs": [],
   "source": [
    "train_m = pd.read_csv('train.csv')\n",
    "train_m= train_m[['Id','cap.shape','cap.color','stalk.color.above.ring','stalk.color.below.ring','bruises','population','poisonous']]\n",
    "X = train_m.drop(columns=['poisonous'])\n",
    "y = train_m['poisonous']\n",
    "\n",
    "X_train, X_test, y_train, y_test = train_test_split(X, y, test_size=0.15, random_state=8)\n",
    "\n",
    "X_train = pd.DataFrame(X_train, columns=X.columns)\n",
    "X_test = pd.DataFrame(X_test, columns=X.columns)"
   ]
  },
  {
   "cell_type": "code",
   "execution_count": 66,
   "id": "0c244025-4e4d-4222-b65f-db05ec99f485",
   "metadata": {},
   "outputs": [],
   "source": [
    "svc = SVC(C=1.0, random_state=8, kernel='linear', probability=True)"
   ]
  },
  {
   "cell_type": "code",
   "execution_count": 67,
   "id": "ed246fb4-9256-4bd9-9786-e3e0e95e1dfb",
   "metadata": {},
   "outputs": [],
   "source": [
    "\n",
    "cat_col=list(X_train.select_dtypes(include=['object']))"
   ]
  },
  {
   "cell_type": "code",
   "execution_count": 101,
   "id": "d9e5a51a-06f6-41a1-b282-a1224b1a2f8a",
   "metadata": {},
   "outputs": [],
   "source": [
    "\n",
    "categorical_pipeline = Pipeline(steps=[\n",
    "    ('impute', SimpleImputer(strategy='most_frequent')),\n",
    "    ('ordinal',OneHotEncoder(handle_unknown='ignore'))\n",
    "])\n",
    "full_processor = ColumnTransformer(transformers=[\n",
    "  \n",
    "    ('category', categorical_pipeline, cat_col)\n",
    "])\n",
    "\n",
    "svc = Pipeline(steps=[\n",
    "    ('preprocess', full_processor), \n",
    "    ('model',  SVC(C=1.0, random_state=8, kernel='linear', probability=True))])\n",
    "\n",
    "pd.DataFrame(full_processor.fit_transform(X_train))\n",
    "svc.fit(X_train, y_train)\n",
    "THRESHOLD= 0.14081378\n",
    "preds = np.where(svc.predict_proba(X_test)[:,1] >= THRESHOLD, 1, 0)"
   ]
  },
  {
   "cell_type": "code",
   "execution_count": 102,
   "id": "b421f2fe-37e2-4239-a5a3-3e9883f02c4e",
   "metadata": {},
   "outputs": [
    {
     "data": {
      "text/plain": [
       "<sklearn.metrics._plot.confusion_matrix.ConfusionMatrixDisplay at 0x7fab6a5f8c70>"
      ]
     },
     "execution_count": 102,
     "metadata": {},
     "output_type": "execute_result"
    },
    {
     "data": {
      "image/png": "[encoded data removed]",
      "text/plain": [
       "<Figure size 432x288 with 2 Axes>"
      ]
     },
     "metadata": {
      "needs_background": "light"
     },
     "output_type": "display_data"
    }
   ],
   "source": [
    "plot_confusion_matrix(svc, X_test, preds, display_labels=['poison', 'no poison'])"
   ]
  },
  {
   "cell_type": "markdown",
   "id": "b701dd58-bd31-472e-a9aa-24473adacaa3",
   "metadata": {},
   "source": [
    "<h1>Robust Random Forest</h1>"
   ]
  },
  {
   "cell_type": "code",
   "execution_count": 72,
   "id": "394675b1-a90b-457a-9876-84a6feb23d23",
   "metadata": {},
   "outputs": [],
   "source": [
    "from sklearn.ensemble import RandomForestClassifier"
   ]
  },
  {
   "cell_type": "code",
   "execution_count": 73,
   "id": "4b1c54d2-f5db-4ab3-a077-8c32074dab4a",
   "metadata": {},
   "outputs": [],
   "source": [
    "train_m = pd.read_csv('train.csv')\n",
    "train_m= train_m[['Id','cap.shape','cap.color','stalk.color.above.ring','stalk.color.below.ring','bruises','population','poisonous']]\n",
    "X = train_m.drop(columns=['poisonous'])\n",
    "y = train_m['poisonous']\n",
    "\n",
    "X_train, X_test, y_train, y_test = train_test_split(X, y, test_size=0.15, random_state=8)\n",
    "\n",
    "X_train = pd.DataFrame(X_train, columns=X.columns)\n",
    "X_test = pd.DataFrame(X_test, columns=X.columns)"
   ]
  },
  {
   "cell_type": "code",
   "execution_count": 74,
   "id": "3b1c00c3-8362-4412-8b4d-84b5b21b03e1",
   "metadata": {},
   "outputs": [],
   "source": [
    "rf = RandomForestClassifier(max_depth=2, random_state=8)"
   ]
  },
  {
   "cell_type": "code",
   "execution_count": 75,
   "id": "9d5eafac-696f-4d2f-9707-d4cb0df39821",
   "metadata": {},
   "outputs": [],
   "source": [
    "\n",
    "cat_col=list(X_train.select_dtypes(include=['object']))"
   ]
  },
  {
   "cell_type": "code",
   "execution_count": 76,
   "id": "f71390fd-f9b8-49f0-9c37-999c2c37bad3",
   "metadata": {},
   "outputs": [
    {
     "data": {
      "text/html": [
       "<div>\n",
       "<style scoped>\n",
       "    .dataframe tbody tr th:only-of-type {\n",
       "        vertical-align: middle;\n",
       "    }\n",
       "\n",
       "    .dataframe tbody tr th {\n",
       "        vertical-align: top;\n",
       "    }\n",
       "\n",
       "    .dataframe thead th {\n",
       "        text-align: right;\n",
       "    }\n",
       "</style>\n",
       "<table border=\"1\" class=\"dataframe\">\n",
       "  <thead>\n",
       "    <tr style=\"text-align: right;\">\n",
       "      <th></th>\n",
       "      <th>0</th>\n",
       "    </tr>\n",
       "  </thead>\n",
       "  <tbody>\n",
       "    <tr>\n",
       "      <th>0</th>\n",
       "      <td>(0, 1)\\t1.0\\n  (0, 9)\\t1.0\\n  (0, 22)\\t1.0\\n...</td>\n",
       "    </tr>\n",
       "    <tr>\n",
       "      <th>1</th>\n",
       "      <td>(0, 1)\\t1.0\\n  (0, 7)\\t1.0\\n  (0, 21)\\t1.0\\n...</td>\n",
       "    </tr>\n",
       "    <tr>\n",
       "      <th>2</th>\n",
       "      <td>(0, 1)\\t1.0\\n  (0, 9)\\t1.0\\n  (0, 20)\\t1.0\\n...</td>\n",
       "    </tr>\n",
       "    <tr>\n",
       "      <th>3</th>\n",
       "      <td>(0, 4)\\t1.0\\n  (0, 8)\\t1.0\\n  (0, 22)\\t1.0\\n...</td>\n",
       "    </tr>\n",
       "    <tr>\n",
       "      <th>4</th>\n",
       "      <td>(0, 4)\\t1.0\\n  (0, 9)\\t1.0\\n  (0, 22)\\t1.0\\n...</td>\n",
       "    </tr>\n",
       "    <tr>\n",
       "      <th>...</th>\n",
       "      <td>...</td>\n",
       "    </tr>\n",
       "    <tr>\n",
       "      <th>5519</th>\n",
       "      <td>(0, 2)\\t1.0\\n  (0, 9)\\t1.0\\n  (0, 21)\\t1.0\\n...</td>\n",
       "    </tr>\n",
       "    <tr>\n",
       "      <th>5520</th>\n",
       "      <td>(0, 4)\\t1.0\\n  (0, 14)\\t1.0\\n  (0, 19)\\t1.0\\...</td>\n",
       "    </tr>\n",
       "    <tr>\n",
       "      <th>5521</th>\n",
       "      <td>(0, 4)\\t1.0\\n  (0, 8)\\t1.0\\n  (0, 21)\\t1.0\\n...</td>\n",
       "    </tr>\n",
       "    <tr>\n",
       "      <th>5522</th>\n",
       "      <td>(0, 4)\\t1.0\\n  (0, 9)\\t1.0\\n  (0, 22)\\t1.0\\n...</td>\n",
       "    </tr>\n",
       "    <tr>\n",
       "      <th>5523</th>\n",
       "      <td>(0, 1)\\t1.0\\n  (0, 8)\\t1.0\\n  (0, 15)\\t1.0\\n...</td>\n",
       "    </tr>\n",
       "  </tbody>\n",
       "</table>\n",
       "<p>5524 rows × 1 columns</p>\n",
       "</div>"
      ],
      "text/plain": [
       "                                                      0\n",
       "0       (0, 1)\\t1.0\\n  (0, 9)\\t1.0\\n  (0, 22)\\t1.0\\n...\n",
       "1       (0, 1)\\t1.0\\n  (0, 7)\\t1.0\\n  (0, 21)\\t1.0\\n...\n",
       "2       (0, 1)\\t1.0\\n  (0, 9)\\t1.0\\n  (0, 20)\\t1.0\\n...\n",
       "3       (0, 4)\\t1.0\\n  (0, 8)\\t1.0\\n  (0, 22)\\t1.0\\n...\n",
       "4       (0, 4)\\t1.0\\n  (0, 9)\\t1.0\\n  (0, 22)\\t1.0\\n...\n",
       "...                                                 ...\n",
       "5519    (0, 2)\\t1.0\\n  (0, 9)\\t1.0\\n  (0, 21)\\t1.0\\n...\n",
       "5520    (0, 4)\\t1.0\\n  (0, 14)\\t1.0\\n  (0, 19)\\t1.0\\...\n",
       "5521    (0, 4)\\t1.0\\n  (0, 8)\\t1.0\\n  (0, 21)\\t1.0\\n...\n",
       "5522    (0, 4)\\t1.0\\n  (0, 9)\\t1.0\\n  (0, 22)\\t1.0\\n...\n",
       "5523    (0, 1)\\t1.0\\n  (0, 8)\\t1.0\\n  (0, 15)\\t1.0\\n...\n",
       "\n",
       "[5524 rows x 1 columns]"
      ]
     },
     "execution_count": 76,
     "metadata": {},
     "output_type": "execute_result"
    }
   ],
   "source": [
    "\n",
    "\n",
    "categorical_pipeline = Pipeline(steps=[\n",
    "    ('impute', SimpleImputer(strategy='most_frequent')),\n",
    "    ('ordinal',OneHotEncoder(handle_unknown='ignore'))\n",
    "])\n",
    "full_processor = ColumnTransformer(transformers=[ \n",
    "    ('category', categorical_pipeline, cat_col)\n",
    "])\n",
    "\n",
    "random_pipeline = Pipeline(steps=[\n",
    "    ('preprocess', full_processor), \n",
    "    ('model',  RandomForestClassifier(max_depth=2, random_state=8))])\n",
    "\n",
    "pd.DataFrame(full_processor.fit_transform(X_train))"
   ]
  },
  {
   "cell_type": "code",
   "execution_count": 77,
   "id": "ff56b4a9-7104-4904-9a18-18f5b27ec143",
   "metadata": {},
   "outputs": [
    {
     "data": {
      "text/plain": [
       "Pipeline(steps=[('preprocess',\n",
       "                 ColumnTransformer(transformers=[('category',\n",
       "                                                  Pipeline(steps=[('impute',\n",
       "                                                                   SimpleImputer(strategy='most_frequent')),\n",
       "                                                                  ('ordinal',\n",
       "                                                                   OneHotEncoder(handle_unknown='ignore'))]),\n",
       "                                                  ['cap.shape', 'cap.color',\n",
       "                                                   'stalk.color.above.ring',\n",
       "                                                   'stalk.color.below.ring',\n",
       "                                                   'population'])])),\n",
       "                ('model', RandomForestClassifier(max_depth=2, random_state=8))])"
      ]
     },
     "execution_count": 77,
     "metadata": {},
     "output_type": "execute_result"
    }
   ],
   "source": [
    "random_pipeline.fit(X_train, y_train)"
   ]
  },
  {
   "cell_type": "code",
   "execution_count": 78,
   "id": "21761542-eb11-461a-a361-9567f40f681a",
   "metadata": {},
   "outputs": [
    {
     "data": {
      "text/plain": [
       "0.8473931933381608"
      ]
     },
     "execution_count": 78,
     "metadata": {},
     "output_type": "execute_result"
    }
   ],
   "source": [
    "accuracy_score(random_pipeline.predict(X_train), y_train)"
   ]
  },
  {
   "cell_type": "code",
   "execution_count": 79,
   "id": "3321c7e3-bd29-455b-ae9e-070eadb29bb0",
   "metadata": {},
   "outputs": [
    {
     "data": {
      "image/png": "[encoded data removed]",
      "text/plain": [
       "<Figure size 432x288 with 2 Axes>"
      ]
     },
     "metadata": {
      "needs_background": "light"
     },
     "output_type": "display_data"
    }
   ],
   "source": [
    "plot_confusion_matrix(random_pipeline, X_test, y_test, display_labels=['poison', 'no poison']);"
   ]
  },
  {
   "cell_type": "code",
   "execution_count": 80,
   "id": "5b23158b-737f-4da3-8db8-71960f070c01",
   "metadata": {},
   "outputs": [
    {
     "name": "stdout",
     "output_type": "stream",
     "text": [
      "\n",
      "    Accuracy: 0.8564102564102564\n",
      "    Recall/Sensitivity: 0.8387715930902111\n",
      "    Precision (True Positive Rate): 0.8864097363083164\n",
      "    Specifity (False Positive Rate): 0.8734439834024896\n",
      "    F Score: 0.8619329388560157\n",
      "    Kappa: 0.7125976957283385\n",
      "\n"
     ]
    }
   ],
   "source": [
    "print(f\"\"\"\n",
    "    Accuracy: {accuracy_score(random_pipeline.predict(X_test), y_test)}\n",
    "    Recall/Sensitivity: {recall_score(random_pipeline.predict(X_test), y_test)}\n",
    "    Precision (True Positive Rate): {precision_score(random_pipeline.predict(X_test), y_test)}\n",
    "    Specifity (False Positive Rate): {tn / (tn+fp)}\n",
    "    F Score: {f1_score(random_pipeline.predict(X_test), y_test)}\n",
    "    Kappa: {cohen_kappa_score(random_pipeline.predict(X_test), y_test)}\n",
    "\"\"\")"
   ]
  },
  {
   "cell_type": "code",
   "execution_count": 81,
   "id": "a997adc0-1ad0-4e9b-89a4-fa049f1563d7",
   "metadata": {},
   "outputs": [],
   "source": [
    "y_score3= random_pipeline.predict_proba(X_test)[:,1]\n",
    "false_positive_rate3, true_positive_rate3, threshold3 = roc_curve(y_test, y_score3)"
   ]
  },
  {
   "cell_type": "code",
   "execution_count": 82,
   "id": "a88ff5b4-6063-483c-b0c1-73b21c6ffb57",
   "metadata": {},
   "outputs": [
    {
     "data": {
      "text/plain": [
       "array([1.73647921, 0.73647921, 0.73553919, 0.72754719, 0.72722066,\n",
       "       0.72538968, 0.72444965, 0.71979272, 0.71653419, 0.71620766,\n",
       "       0.70522379, 0.66939729, 0.66750703, 0.66724367, 0.65830776,\n",
       "       0.65615414, 0.64975792, 0.64561715, 0.63793299, 0.63720798,\n",
       "       0.63521282, 0.63427762, 0.63323522, 0.63154398, 0.62952167,\n",
       "       0.62903959, 0.62787875, 0.62273941, 0.62212591, 0.61836001,\n",
       "       0.61697504, 0.6163377 , 0.61495274, 0.61330982, 0.61007392,\n",
       "       0.6008749 , 0.59724499, 0.59667927, 0.59219431, 0.59098072,\n",
       "       0.58599968, 0.58461472, 0.58397738, 0.58259241, 0.58229793,\n",
       "       0.58121565, 0.57964437, 0.57843078, 0.57718467, 0.57479287,\n",
       "       0.56814947, 0.56491635, 0.56463473, 0.55991766, 0.55897763,\n",
       "       0.55842012, 0.55746988, 0.55652986, 0.55306531, 0.55304303,\n",
       "       0.55244294, 0.55212529, 0.54874169, 0.5481282 , 0.54520609,\n",
       "       0.5447896 , 0.54183967, 0.53989256, 0.53565479, 0.53324915,\n",
       "       0.52501734, 0.52407731, 0.52321577, 0.52256957, 0.52178157,\n",
       "       0.52162954, 0.52084154, 0.52063813, 0.51966787, 0.518165  ,\n",
       "       0.51722497, 0.51593161, 0.51529735, 0.51363574, 0.51147729,\n",
       "       0.50898828, 0.50804826, 0.50553743, 0.50445515, 0.49990227,\n",
       "       0.4976064 , 0.48950809, 0.48842581, 0.48652279, 0.48513783,\n",
       "       0.4849169 , 0.48450049, 0.48383462, 0.48311552, 0.45284848,\n",
       "       0.45223316, 0.45176621, 0.4482573 , 0.44713441, 0.44674313,\n",
       "       0.44640398, 0.44546395, 0.44501902, 0.44407899, 0.44340907,\n",
       "       0.44254323, 0.4360827 , 0.43514267, 0.43501354, 0.43363493,\n",
       "       0.43224795, 0.43145214, 0.42923036, 0.42678057, 0.42670128,\n",
       "       0.42520899, 0.4230566 , 0.42266532, 0.40930457, 0.4086812 ,\n",
       "       0.4060688 , 0.40574317, 0.4044813 , 0.39831177, 0.39734764,\n",
       "       0.3942042 , 0.39332713, 0.39314292, 0.39304836, 0.39265796,\n",
       "       0.39135883, 0.39030868, 0.38981259, 0.38912722, 0.38846435,\n",
       "       0.38783607, 0.38758098, 0.38755564, 0.38663829, 0.3860094 ,\n",
       "       0.38555601, 0.38437192, 0.38152655, 0.38096483, 0.34470279,\n",
       "       0.34376276, 0.34328901, 0.3423778 , 0.34174855, 0.34087147,\n",
       "       0.33890317, 0.33738042, 0.33667157, 0.3360087 , 0.33262738,\n",
       "       0.33034146, 0.32378622, 0.32067199, 0.31998303, 0.31608081,\n",
       "       0.27055524, 0.26596405])"
      ]
     },
     "execution_count": 82,
     "metadata": {},
     "output_type": "execute_result"
    }
   ],
   "source": [
    "threshold3"
   ]
  },
  {
   "cell_type": "code",
   "execution_count": 83,
   "id": "88ff166c-fd87-4281-a61b-9d62e728d2d8",
   "metadata": {},
   "outputs": [
    {
     "data": {
      "text/plain": [
       "0.9013323457870771"
      ]
     },
     "execution_count": 83,
     "metadata": {},
     "output_type": "execute_result"
    }
   ],
   "source": [
    "rf= roc_auc_score(y_test, y_score3)\n",
    "rf"
   ]
  },
  {
   "cell_type": "code",
   "execution_count": 84,
   "id": "a4a162fd-c300-4ecf-a951-a4e164b06dd1",
   "metadata": {},
   "outputs": [
    {
     "name": "stdout",
     "output_type": "stream",
     "text": [
      "roc_auc_score for DecisionTree:  0.9013323457870771\n"
     ]
    }
   ],
   "source": [
    "print('roc_auc_score for DecisionTree: ', roc_auc_score(y_test, y_score3))"
   ]
  },
  {
   "cell_type": "code",
   "execution_count": 85,
   "id": "724ae6c6-e080-47d4-9545-879fc7eda75b",
   "metadata": {},
   "outputs": [
    {
     "data": {
      "image/png": "[encoded data removed]",
      "text/plain": [
       "<Figure size 720x720 with 1 Axes>"
      ]
     },
     "metadata": {
      "needs_background": "light"
     },
     "output_type": "display_data"
    }
   ],
   "source": [
    "plt.subplots(1, figsize=(10,10))\n",
    "plt.title('ROC - Robust Random Forest')\n",
    "plt.plot(false_positive_rate3, true_positive_rate3)\n",
    "plt.plot([0, 1], ls=\"--\")\n",
    "plt.plot([0, 0], [1, 0] , c=\".7\"), plt.plot([1, 1] , c=\".7\")\n",
    "plt.ylabel('True Positive Rate')\n",
    "plt.xlabel('False Positive Rate')\n",
    "plt.show()"
   ]
  },
  {
   "cell_type": "markdown",
   "id": "2a7452cf-9453-4db0-a42d-93e6fc255bab",
   "metadata": {},
   "source": [
    "<h1>Decrease False Negative Random Forest</h1>"
   ]
  },
  {
   "cell_type": "code",
   "execution_count": 86,
   "id": "0b8209a7-9ad9-4c6b-98f3-14a99c1eb403",
   "metadata": {},
   "outputs": [],
   "source": [
    "train_m = pd.read_csv('train.csv')\n",
    "train_m= train_m[['Id','cap.shape','cap.color','stalk.color.above.ring','stalk.color.below.ring','bruises','population','poisonous']]\n",
    "X = train_m.drop(columns=['poisonous'])\n",
    "y = train_m['poisonous']\n",
    "\n",
    "X_train, X_test, y_train, y_test = train_test_split(X, y, test_size=0.15, random_state=8)\n",
    "\n",
    "X_train = pd.DataFrame(X_train, columns=X.columns)\n",
    "X_test = pd.DataFrame(X_test, columns=X.columns)"
   ]
  },
  {
   "cell_type": "code",
   "execution_count": 87,
   "id": "85e1679c-be85-40ff-8e32-fe2fd7f41eac",
   "metadata": {},
   "outputs": [],
   "source": [
    "rf = RandomForestClassifier(max_depth=2, random_state=8)"
   ]
  },
  {
   "cell_type": "code",
   "execution_count": 88,
   "id": "fba0eccf-09eb-43f9-bd44-8425a06321af",
   "metadata": {},
   "outputs": [],
   "source": [
    "\n",
    "cat_col=list(X_train.select_dtypes(include=['object']))"
   ]
  },
  {
   "cell_type": "code",
   "execution_count": 97,
   "id": "b26554cf-b58f-4c5c-ab78-b87529245d9d",
   "metadata": {},
   "outputs": [],
   "source": [
    "\n",
    "categorical_pipeline = Pipeline(steps=[\n",
    "    ('impute', SimpleImputer(strategy='most_frequent')),\n",
    "    ('ordinal',OneHotEncoder(handle_unknown='ignore'))\n",
    "])\n",
    "full_processor = ColumnTransformer(transformers=[ \n",
    "    ('category', categorical_pipeline, cat_col)\n",
    "])\n",
    "\n",
    "random_pipeline = Pipeline(steps=[\n",
    "    ('preprocess', full_processor), \n",
    "    ('model',  RandomForestClassifier(max_depth=2, random_state=8))])\n",
    "\n",
    "pd.DataFrame(full_processor.fit_transform(X_train))\n",
    "random_pipeline.fit(X_train, y_train)\n",
    "THRESHOLD= 0.27055524\n",
    "preds = np.where(random_pipeline.predict_proba(X_test)[:,1] >= THRESHOLD, 1, 0)"
   ]
  },
  {
   "cell_type": "code",
   "execution_count": 98,
   "id": "26b3f444-5158-4e76-8f5f-b6a6dd8ff896",
   "metadata": {},
   "outputs": [
    {
     "data": {
      "image/png": "[encoded data removed]",
      "text/plain": [
       "<Figure size 432x288 with 2 Axes>"
      ]
     },
     "metadata": {
      "needs_background": "light"
     },
     "output_type": "display_data"
    }
   ],
   "source": [
    "plot_confusion_matrix(random_pipeline, X_test, preds, display_labels=['poison', 'no poison']);"
   ]
  },
  {
   "cell_type": "markdown",
   "id": "f374583d-045a-485c-b23e-c9041c1e20fe",
   "metadata": {},
   "source": [
    "<h1>Let's plot together in order to choose</h1>"
   ]
  },
  {
   "cell_type": "code",
   "execution_count": 391,
   "id": "489d1a01-378d-40d9-824c-f2c162bb1be2",
   "metadata": {},
   "outputs": [
    {
     "data": {
      "image/png": "[encoded data removed]",
      "text/plain": [
       "<Figure size 1296x864 with 1 Axes>"
      ]
     },
     "metadata": {
      "needs_background": "light"
     },
     "output_type": "display_data"
    }
   ],
   "source": [
    "plt.figure(figsize=(18,12))\n",
    "plt.plot(false_positive_rate, true_positive_rate, marker='.', label='DecisionTreeClassifier prediction (AUROC = %0.3f)' % dt)\n",
    "plt.plot(false_positive_rate1, true_positive_rate1, marker='.', label='Logistic Regression(AUROC = %0.3f)' % lr)\n",
    "plt.plot(false_positive_rate3, true_positive_rate3, marker='.', label='Random forest (AUROC = %0.3f)' % rf)\n",
    "plt.plot(false_positive_rate2, true_positive_rate2, marker='.', label='Support Vector Machine(AUROC = %0.3f)' % svm)\n",
    "plt.title('ROC Plot')\n",
    "plt.xlabel('False Positive Rate')\n",
    "plt.ylabel('True Positive Rate')\n",
    "plt.legend() \n",
    "plt.show()"
   ]
  },
  {
   "cell_type": "code",
   "execution_count": null,
   "id": "4938b8c5-cbda-4457-bd43-cc11e1a81351",
   "metadata": {},
   "outputs": [],
   "source": []
  },
  {
   "cell_type": "code",
   "execution_count": null,
   "id": "03a6c889-8db5-4fd3-b647-d9130db881dc",
   "metadata": {},
   "outputs": [],
   "source": []
  },
  {
   "cell_type": "code",
   "execution_count": null,
   "id": "e06bcddf-832a-4423-8e45-4c35c6bd32cc",
   "metadata": {},
   "outputs": [],
   "source": []
  },
  {
   "cell_type": "code",
   "execution_count": null,
   "id": "2a3d9daf-9cf1-4531-a73f-eb703ef7a18b",
   "metadata": {},
   "outputs": [],
   "source": []
  },
  {
   "cell_type": "code",
   "execution_count": null,
   "id": "5ee0cecc-e34c-4ec0-bd4d-eb2268a3713d",
   "metadata": {},
   "outputs": [],
   "source": []
  },
  {
   "cell_type": "code",
   "execution_count": null,
   "id": "ea6e6d90-6ac5-4e34-b381-0e9f7330ea15",
   "metadata": {},
   "outputs": [],
   "source": []
  },
  {
   "cell_type": "code",
   "execution_count": null,
   "id": "5b51ed55-46ed-49d2-bca7-d5e172209962",
   "metadata": {},
   "outputs": [],
   "source": []
  },
  {
   "cell_type": "code",
   "execution_count": null,
   "id": "2afc9841-e1c3-4fef-a6f1-69b373416d48",
   "metadata": {},
   "outputs": [],
   "source": []
  },
  {
   "cell_type": "code",
   "execution_count": null,
   "id": "685cab47-c0c2-4312-ab63-e15751431253",
   "metadata": {},
   "outputs": [],
   "source": []
  },
  {
   "cell_type": "code",
   "execution_count": null,
   "id": "b6b07941-4a44-4944-9d81-61df029a6c80",
   "metadata": {},
   "outputs": [],
   "source": []
  },
  {
   "cell_type": "code",
   "execution_count": null,
   "id": "0e33303c-c537-4a00-8714-56f43d92ad1f",
   "metadata": {},
   "outputs": [],
   "source": []
  }
 ],
 "metadata": {
  "kernelspec": {
   "display_name": "Python 3",
   "language": "python",
   "name": "python3"
  },
  "language_info": {
   "codemirror_mode": {
    "name": "ipython",
    "version": 3
   },
   "file_extension": ".py",
   "mimetype": "text/x-python",
   "name": "python",
   "nbconvert_exporter": "python",
   "pygments_lexer": "ipython3",
   "version": "3.8.8"
  }
 },
 "nbformat": 4,
 "nbformat_minor": 5
}
